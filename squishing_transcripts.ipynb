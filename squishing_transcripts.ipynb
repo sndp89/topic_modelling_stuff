{
 "cells": [
  {
   "cell_type": "markdown",
   "metadata": {},
   "source": [
    "# Squishing Transcripts\n",
    "### Code that shows you how to combine Nexidia utterences into a single row per transcript\n",
    "\n",
    "In this code, we'll assume that we have a list of UCID's, which is a common unique identifier for a phone conversation."
   ]
  },
  {
   "cell_type": "code",
   "execution_count": 1,
   "metadata": {
    "collapsed": false
   },
   "outputs": [],
   "source": [
    "import pandas as pd\n",
    "pd.set_option('display.max_columns', 500)"
   ]
  },
  {
   "cell_type": "code",
   "execution_count": 2,
   "metadata": {
    "collapsed": true
   },
   "outputs": [],
   "source": [
    "import pyspark\n",
    "from pyspark import StorageLevel\n",
    "from pyspark.sql import SparkSession\n",
    "from pyspark.sql import Row, SQLContext\n",
    "from pyspark.sql.types import *\n",
    "from pyspark.sql.functions import *\n",
    "from pyspark.sql import functions as f\n",
    "from pyspark.sql.window import Window\n",
    "\n",
    "import pandas as pd\n",
    "\n",
    "import os\n",
    "from os.path import expanduser, join, abspath\n",
    "\n",
    "from IPython.display import display, HTML\n",
    "\n",
    "# warehouse_location points to the default location for managed databases and tables\n",
    "warehouse_location = abspath('spark-warehouse')\n",
    "\n",
    "spark = SparkSession.builder.appName(\"SparkTest\").config(\"spark.sql.warehouse.dir\", warehouse_location).enableHiveSupport().getOrCreate()\n",
    "sc = spark.sparkContext"
   ]
  },
  {
   "cell_type": "markdown",
   "metadata": {},
   "source": [
    "To load a long list of UCID's, one way to do it is to save them in a file called ucid.py in the same directory, and import them as a list. This makes this notebook a lot cleaner as well.\n"
   ]
  },
  {
   "cell_type": "code",
   "execution_count": 3,
   "metadata": {
    "collapsed": true
   },
   "outputs": [],
   "source": [
    "# Example of ucid_list.py:\n",
    "\n",
    "# ucid_list = [\n",
    "#    '83847402203932308'\n",
    "#   ,'2039420808029834'\n",
    "#   ,'013908304230982']"
   ]
  },
  {
   "cell_type": "markdown",
   "metadata": {},
   "source": [
    "Nexidia data is notoriously slow-running to query. The main reason is that the hdfs partitions are NOT the same as the date that the call took place. \n",
    "\n",
    "\n",
    "**day_id** = The day the file was imported (could contain calls from all days prior, but not in the future)\n",
    "\n",
    "**interactiondatetime** = The day the call took place\n",
    "\n",
    "The date limits can help you speed up the performance by adding filters where you are sure the UCID's fall into"
   ]
  },
  {
   "cell_type": "code",
   "execution_count": 4,
   "metadata": {
    "collapsed": false
   },
   "outputs": [],
   "source": [
    "from ucid import ucid_list\n",
    "min_importdate = '2019-06-18'\n",
    "max_importdate = '9999-12-31'\n",
    "\n",
    "min_calldate = '2019-06-17'\n",
    "max_calldate = '2019-07-01'"
   ]
  },
  {
   "cell_type": "markdown",
   "metadata": {},
   "source": [
    "This code will dynamically create the SQL statement"
   ]
  },
  {
   "cell_type": "code",
   "execution_count": 5,
   "metadata": {
    "collapsed": true
   },
   "outputs": [],
   "source": [
    "sql_text = \"SELECT udfvarchar2 as UCID, T.day_id, T.transcript, T.start_ms \\\n",
    "FROM (select interactiondatetime, interactionid from jrnl.nexidia_interaction \\\n",
    "where day_id >= '\" + min_importdate + \"' \\\n",
    "and day_id <= '\" + max_importdate + \"' \\\n",
    "and interactiondatetime >= '\" + min_calldate + \"' \\\n",
    "and interactiondatetime <= '\" + max_calldate + \"' \\\n",
    ") as i \\\n",
    "INNER JOIN (select udfvarchar2, interactionid from jrnl.nexidia_interaction_metadata \\\n",
    "where day_id >= '\"+ min_importdate +\"' and day_id <= '\" + max_importdate + \"') as m \\\n",
    "ON i.interactionid = m.interactionid \\\n",
    "INNER JOIN (select day_id, transcript, start_ms, interactionid \\\n",
    "from jrnl.nexidia_transcript where day_id >= '\" + min_importdate + \"' and day_id <= '\" + max_importdate + \"') as t \\\n",
    "ON i.interactionid = t.interactionid \\\n",
    "WHERE udfvarchar2 in (\"\n",
    "\n",
    "\n",
    "sql_text = sql_text + ','.join('\\'{0}\\''.format(w) for w in ucid_list) + ')'"
   ]
  },
  {
   "cell_type": "code",
   "execution_count": 6,
   "metadata": {
    "collapsed": false
   },
   "outputs": [],
   "source": [
    "df = spark.sql(sql_text)"
   ]
  },
  {
   "cell_type": "code",
   "execution_count": 7,
   "metadata": {
    "collapsed": false
   },
   "outputs": [
    {
     "data": {
      "text/html": [
       "<div>\n",
       "<table border=\"1\" class=\"dataframe\">\n",
       "  <thead>\n",
       "    <tr style=\"text-align: right;\">\n",
       "      <th></th>\n",
       "      <th>UCID</th>\n",
       "      <th>day_id</th>\n",
       "      <th>transcript</th>\n",
       "      <th>start_ms</th>\n",
       "    </tr>\n",
       "  </thead>\n",
       "  <tbody>\n",
       "    <tr>\n",
       "      <th>0</th>\n",
       "      <td>11000054081560830654</td>\n",
       "      <td>2019-06-20</td>\n",
       "      <td>UP INSTEAD ... OK</td>\n",
       "      <td>106080</td>\n",
       "    </tr>\n",
       "    <tr>\n",
       "      <th>1</th>\n",
       "      <td>11000054081560830654</td>\n",
       "      <td>2019-06-20</td>\n",
       "      <td>YEP IS ... SOMETHING WITH THE APPLICATION ITSE...</td>\n",
       "      <td>94560</td>\n",
       "    </tr>\n",
       "    <tr>\n",
       "      <th>2</th>\n",
       "      <td>11000054081560830654</td>\n",
       "      <td>2019-06-20</td>\n",
       "      <td>SHE'S ... OFF FOR THE EXTRA FOR APPLICATION IT...</td>\n",
       "      <td>43220</td>\n",
       "    </tr>\n",
       "    <tr>\n",
       "      <th>3</th>\n",
       "      <td>11000054081560830654</td>\n",
       "      <td>2019-06-20</td>\n",
       "      <td>NAME ... NO PROBLEM HAVE A NINE</td>\n",
       "      <td>122080</td>\n",
       "    </tr>\n",
       "    <tr>\n",
       "      <th>4</th>\n",
       "      <td>11000054081560830654</td>\n",
       "      <td>2019-06-20</td>\n",
       "      <td>I WILL GO AHEAD AND SEE WHAT I CAN HELP YOU WI...</td>\n",
       "      <td>108030</td>\n",
       "    </tr>\n",
       "    <tr>\n",
       "      <th>5</th>\n",
       "      <td>11000054081560830654</td>\n",
       "      <td>2019-06-20</td>\n",
       "      <td>IF IT'S ON THE MOBILE PHONE THAT THEY ... ARE ...</td>\n",
       "      <td>79090</td>\n",
       "    </tr>\n",
       "    <tr>\n",
       "      <th>6</th>\n",
       "      <td>11000054081560830654</td>\n",
       "      <td>2019-06-20</td>\n",
       "      <td>YES ... THAT IS NOT CORRECT</td>\n",
       "      <td>118550</td>\n",
       "    </tr>\n",
       "    <tr>\n",
       "      <th>7</th>\n",
       "      <td>11000054081560830654</td>\n",
       "      <td>2019-06-20</td>\n",
       "      <td>THIS IS ACTUALLY WITH REPAIRING BILLING ON THE...</td>\n",
       "      <td>18380</td>\n",
       "    </tr>\n",
       "    <tr>\n",
       "      <th>8</th>\n",
       "      <td>11000054081560830654</td>\n",
       "      <td>2019-06-20</td>\n",
       "      <td>NO THAT'S NOT COOL</td>\n",
       "      <td>5900</td>\n",
       "    </tr>\n",
       "    <tr>\n",
       "      <th>9</th>\n",
       "      <td>11000054081560830654</td>\n",
       "      <td>2019-06-20</td>\n",
       "      <td>HELLO MY NAME IS MARK FROM XFINITY MOBILE SURE...</td>\n",
       "      <td>13420</td>\n",
       "    </tr>\n",
       "  </tbody>\n",
       "</table>\n",
       "</div>"
      ],
      "text/plain": [
       "                   UCID      day_id  \\\n",
       "0  11000054081560830654  2019-06-20   \n",
       "1  11000054081560830654  2019-06-20   \n",
       "2  11000054081560830654  2019-06-20   \n",
       "3  11000054081560830654  2019-06-20   \n",
       "4  11000054081560830654  2019-06-20   \n",
       "5  11000054081560830654  2019-06-20   \n",
       "6  11000054081560830654  2019-06-20   \n",
       "7  11000054081560830654  2019-06-20   \n",
       "8  11000054081560830654  2019-06-20   \n",
       "9  11000054081560830654  2019-06-20   \n",
       "\n",
       "                                          transcript  start_ms  \n",
       "0                                  UP INSTEAD ... OK    106080  \n",
       "1  YEP IS ... SOMETHING WITH THE APPLICATION ITSE...     94560  \n",
       "2  SHE'S ... OFF FOR THE EXTRA FOR APPLICATION IT...     43220  \n",
       "3                    NAME ... NO PROBLEM HAVE A NINE    122080  \n",
       "4  I WILL GO AHEAD AND SEE WHAT I CAN HELP YOU WI...    108030  \n",
       "5  IF IT'S ON THE MOBILE PHONE THAT THEY ... ARE ...     79090  \n",
       "6                        YES ... THAT IS NOT CORRECT    118550  \n",
       "7  THIS IS ACTUALLY WITH REPAIRING BILLING ON THE...     18380  \n",
       "8                                 NO THAT'S NOT COOL      5900  \n",
       "9  HELLO MY NAME IS MARK FROM XFINITY MOBILE SURE...     13420  "
      ]
     },
     "execution_count": 7,
     "metadata": {},
     "output_type": "execute_result"
    }
   ],
   "source": [
    "df.limit(10).toPandas()"
   ]
  },
  {
   "cell_type": "markdown",
   "metadata": {},
   "source": [
    "Now we'll need to aggreagate the text. \n",
    "\n",
    "This code is designed to dynamically aggregate multiple columns, by supplying a list of columns to the variable `agg_cols`\n",
    "\n",
    "In this case, we're only doing it for one variable."
   ]
  },
  {
   "cell_type": "code",
   "execution_count": 8,
   "metadata": {
    "collapsed": true
   },
   "outputs": [],
   "source": [
    "agg_cols=['transcript']"
   ]
  },
  {
   "cell_type": "code",
   "execution_count": 9,
   "metadata": {
    "collapsed": false
   },
   "outputs": [],
   "source": [
    "str_command = \"\"\n",
    "\n",
    "# you must edit this to include the groupBy and Ordering logic\n",
    "str_command = \"newDF = df.orderBy([\\\"UCID\\\", \\\"day_id\\\", \\\"start_ms\\\"], ascending=[1, 1])\"\n",
    "str_command = str_command + \".groupBy(\\\"UCID\\\")\"\n",
    "str_command = str_command + \".agg(\"\n",
    "\n",
    "for i, c in enumerate(agg_cols):\n",
    "    if i:\n",
    "        str_command = str_command + ', '\n",
    "    str_command = str_command + \"collect_list(\\\"\" + c + \"\\\").alias(\\\"\" + c + \"\\\")\"\n",
    "\n",
    "str_command = str_command + \")\"\n",
    "\n",
    "for i, c in enumerate(agg_cols):\n",
    "    str_command = str_command + \".withColumn(\\\"\" + c + \"\\\",concat_ws(\\\" ... \\\", col(\\\"\" + c  + \"\\\")))\"\n",
    "\n",
    "#print(str_command)\n",
    "exec(str_command)"
   ]
  },
  {
   "cell_type": "code",
   "execution_count": 10,
   "metadata": {
    "collapsed": false
   },
   "outputs": [
    {
     "data": {
      "text/html": [
       "<div>\n",
       "<table border=\"1\" class=\"dataframe\">\n",
       "  <thead>\n",
       "    <tr style=\"text-align: right;\">\n",
       "      <th></th>\n",
       "      <th>UCID</th>\n",
       "      <th>transcript</th>\n",
       "    </tr>\n",
       "  </thead>\n",
       "  <tbody>\n",
       "    <tr>\n",
       "      <th>0</th>\n",
       "      <td>10000182181560834686</td>\n",
       "      <td>SORRY THERE'S NO AVAILABLE SUPERVISOR ... HELL...</td>\n",
       "    </tr>\n",
       "  </tbody>\n",
       "</table>\n",
       "</div>"
      ],
      "text/plain": [
       "                   UCID                                         transcript\n",
       "0  10000182181560834686  SORRY THERE'S NO AVAILABLE SUPERVISOR ... HELL..."
      ]
     },
     "execution_count": 10,
     "metadata": {},
     "output_type": "execute_result"
    }
   ],
   "source": [
    "newDF.limit(1).toPandas()"
   ]
  },
  {
   "cell_type": "code",
   "execution_count": 10,
   "metadata": {
    "collapsed": true
   },
   "outputs": [],
   "source": [
    "newDF.createOrReplaceTempView(\"mytempTable\") \n",
    "sqlContext.sql(\"create table SCHEMA.TABLENAME as select * from mytempTable\");"
   ]
  }
 ],
 "metadata": {
  "kernelspec": {
   "display_name": "Python 2",
   "language": "python",
   "name": "python2"
  },
  "language_info": {
   "codemirror_mode": {
    "name": "ipython",
    "version": 2
   },
   "file_extension": ".py",
   "mimetype": "text/x-python",
   "name": "python",
   "nbconvert_exporter": "python",
   "pygments_lexer": "ipython2",
   "version": "2.7.10"
  }
 },
 "nbformat": 4,
 "nbformat_minor": 0
}
